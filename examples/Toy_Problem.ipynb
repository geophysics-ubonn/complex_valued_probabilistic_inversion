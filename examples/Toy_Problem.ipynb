{
 "cells": [
  {
   "cell_type": "markdown",
   "id": "00da2997-cb7d-40d3-ab53-e317a85fc66b",
   "metadata": {},
   "source": [
    "# This is a minimal example for how to use the Complex inversion"
   ]
  },
  {
   "cell_type": "code",
   "execution_count": 1,
   "id": "afe3fcfa-85c2-4778-a38f-80f0972b8e67",
   "metadata": {},
   "outputs": [],
   "source": [
    "import complex_inversion_tools as cit\n",
    "import numpy as np\n",
    "import matplotlib.pyplot as plt"
   ]
  },
  {
   "cell_type": "markdown",
   "id": "b1b7d76b-dd78-4f19-80fe-444b8d126ca7",
   "metadata": {},
   "source": [
    "First, we create the synthetic complex measurements.\n",
    "* We define a forward operator (np.log)\n",
    "* We define a method to calculate the Jacobian\n",
    "* We create synthetic measurements from a true model ```m_true```. The synthetic measurements must be saved into an array that fullfills the Conjugate Coordinate form."
   ]
  },
  {
   "cell_type": "code",
   "execution_count": 2,
   "id": "8fd3257e-964f-41f9-90a3-20983a368517",
   "metadata": {},
   "outputs": [],
   "source": [
    "# create forward operator\n",
    "\n",
    "def f(m):\n",
    "    \"\"\"\n",
    "    This is the forward operator used to create the synthetic measurements and during the inversion.\n",
    "    Please excuse the inverse crime in the spirit of keeping things simple.\n",
    "    \"\"\"\n",
    "    return np.log(m)\n",
    "\n",
    "def J(m):\n",
    "    \"\"\"\n",
    "    This method calculates the complex jacobian. Please note that the forward operator is analytic.\n",
    "    \"\"\"\n",
    "    return np.diagflat(1 / m)\n",
    "    \n",
    "\n",
    "# create synthetic measurements\n",
    "M = 10 # number of model parameters\n",
    "\n",
    "m_true = np.linspace(1, 10, M) + np.linspace(0.1, 1, M) * 1j # Here we define the true complex model\n",
    "d = f(m_true) # here we calculate the synthetic data to be inverted\n",
    "\n",
    "d = np.hstack((d, d.conj())) # here we convert the data into the conjugate coordinate form"
   ]
  },
  {
   "cell_type": "markdown",
   "id": "2fef5162-c585-446e-a02f-b549aeea6703",
   "metadata": {},
   "source": [
    "To perform the inversion we have to set up a couple of things.\n",
    "* First, we define a function ```solve_forward_problem```. This function takes as input a complex valued model in the conjugate coordinate form. It must return the associated forward response in conjugate coordinate form, as well as the Jacobian (by default not in CC form, optional in CC form)\n",
    "* Second we define a starting model for the inversion in CC form.\n",
    "* Third we define the inverse data covariance matrix in CC form as explained in the Paper.\n",
    "* Fourth we define the regularization operator in CC form."
   ]
  },
  {
   "cell_type": "code",
   "execution_count": 3,
   "id": "67160799-a48b-44c8-ab85-4e5e6050f35a",
   "metadata": {},
   "outputs": [],
   "source": [
    "# Inversion preparation\n",
    "\n",
    "def solve_forward_problem(m):\n",
    "    fm = f(m)\n",
    "    return fm, J(m[:M])\n",
    "\n",
    "m0 = np.ones(M) + 1j * np.ones(M)\n",
    "m0 = np.hstack((m0, m0.conj()))\n",
    "\n",
    "Rd = np.eye(2 * M)\n",
    "Rm = np.zeros((2 * M, 2 * M)) # since we have an equally determined problem, we do not need regularization"
   ]
  },
  {
   "cell_type": "markdown",
   "id": "24a7be4f-de99-42a6-9cf7-56b3cd99e4b9",
   "metadata": {},
   "source": [
    "Finally, we initialize the complex inversion Manager and provide all the necessary input defined above.\n",
    "After that we are ready to run the inversion."
   ]
  },
  {
   "cell_type": "code",
   "execution_count": 4,
   "id": "ef1e085f-d821-4bb9-a68b-47ac6211f048",
   "metadata": {},
   "outputs": [
    {
     "name": "stdout",
     "output_type": "stream",
     "text": [
      "1.5231579425800041 1.3600680703247086 0.6857295109062862\n",
      "rmse  (1.5231579425800041, 1.3600680703247086, 0.6857295109062862)\n",
      "eta  1.0391300943921382\n",
      "rmse  (0.6315107774942494, 0.5106146391190634, 0.37158922536680217)\n",
      "eta  1.0566731704118772\n",
      "rmse  (0.15458575327881138, 0.08201883318153283, 0.13103307262030237)\n",
      "eta  1.021462930921831\n",
      "rmse  (0.013845976650507298, 0.006529326500585117, 0.012209789713797294)\n",
      "eta  0.9977462731056235\n",
      "rmse  (0.00015234051742296496, 0.00013713484952699952, 6.634505478107536e-05)\n",
      "eta  0.9999252221144684\n",
      "rmse  (1.6529652262351414e-08, 1.204789544905181e-08, 1.1317138293887545e-08)\n",
      "eta  1.0000000163127563\n"
     ]
    }
   ],
   "source": [
    "ciManager = cit.Complex_Inversion_Manager(\n",
    "    m=m0, # starting model in CC form\n",
    "    d=d, # data in CC form\n",
    "    solve_forward_problem=solve_forward_problem, # function returning the forward response and the Jacobain\n",
    "    lam=0, # scalar scaling the complex regularization term.\n",
    "    Rd=Rd, # inverse data covariance matrix in CC form\n",
    "    Rm=Rm, # regularization operator in CC form\n",
    "    mp=np.zeros_like(m0)) # prior model in CC form\n",
    "\n",
    "ciManager.inversion() # run the inversion"
   ]
  },
  {
   "cell_type": "markdown",
   "id": "36016fdb-8a3d-41f2-a329-c147746f80ad",
   "metadata": {},
   "source": [
    "Checking the inversion result against the true model used to generate the synthetic data shows that our inversion was successfull! Nice!"
   ]
  },
  {
   "cell_type": "code",
   "execution_count": 5,
   "id": "f422f35a-623a-4e05-891d-8f50d9b0dace",
   "metadata": {},
   "outputs": [
    {
     "data": {
      "text/plain": [
       "True"
      ]
     },
     "execution_count": 5,
     "metadata": {},
     "output_type": "execute_result"
    }
   ],
   "source": [
    "np.allclose(ciManager.m[:M], m_true)"
   ]
  },
  {
   "cell_type": "code",
   "execution_count": null,
   "id": "6cd208a8-047d-4a83-8278-1d8b7e65a0ba",
   "metadata": {},
   "outputs": [],
   "source": []
  }
 ],
 "metadata": {
  "kernelspec": {
   "display_name": "Python 3 (ipykernel)",
   "language": "python",
   "name": "python3"
  },
  "language_info": {
   "codemirror_mode": {
    "name": "ipython",
    "version": 3
   },
   "file_extension": ".py",
   "mimetype": "text/x-python",
   "name": "python",
   "nbconvert_exporter": "python",
   "pygments_lexer": "ipython3",
   "version": "3.10.14"
  }
 },
 "nbformat": 4,
 "nbformat_minor": 5
}
